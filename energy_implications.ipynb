{
 "cells": [
  {
   "cell_type": "code",
   "execution_count": 2,
   "metadata": {},
   "outputs": [],
   "source": [
    "import numpy as np\n",
    "import pandas as pd\n",
    "import geopandas\n",
    "import matplotlib.pyplot as plt\n",
    "import matplotlib.colors as colors\n",
    "import plotly.graph_objects as go\n",
    "import urllib, json"
   ]
  },
  {
   "cell_type": "code",
   "execution_count": 3,
   "metadata": {},
   "outputs": [],
   "source": [
    "# Prepare \"nodes\" dataframe\n",
    "def node_table(df):\n",
    "    cols_1 = list(df.Applications.values)\n",
    "    cols_2 = list(df.columns[-3:])\n",
    "    cols_1.extend(cols_2)\n",
    "    df_labels = pd.DataFrame(cols_1, columns=['labels'])\n",
    "\n",
    "    return df_labels\n",
    "\n",
    "\n",
    "# Build square matrix\n",
    "def numeric_source_target(df):\n",
    "    df_labels = node_table(df)\n",
    "    df.Applications = [df_labels[df_labels['labels'] == vals].index.values for vals in df.Applications]\n",
    "    df.Applications = df.Applications.map(lambda x: x[0])\n",
    "    cols = [df_labels[df_labels['labels'] == vals].index.values for vals in df.columns[1:]]\n",
    "    new_col_names = [name for col in cols for name in col]\n",
    "    old_col_names = df.columns[1:]\n",
    "    df.rename(columns=dict(zip(old_col_names, new_col_names)), inplace=True)\n",
    "\n",
    "    return df\n",
    "\n",
    "\n",
    "def source_target_table(df):\n",
    "    square_df = numeric_source_target(df)\n",
    "    var_list = list(square_df.iloc[:, 1:].columns)\n",
    "    melt_df = pd.melt(square_df, id_vars=[square_df.columns[0]], value_vars=var_list, var_name='target', value_name='value')\n",
    "    melt_df = melt_df.rename(columns={square_df.columns[0]: 'source'})\n",
    "    melt_df = melt_df.astype('int')\n",
    "    melt_df = melt_df[melt_df['value'] == 1]\n",
    "\n",
    "    return melt_df\n",
    "\n",
    "\n",
    "# plot sankey diagram\n",
    "def sankey_plot(df):\n",
    "    df_labels = node_table(df)\n",
    "    melt_df = source_target_table(df)\n",
    "    pd.set_option('display.max_rows', None)\n",
    "    url = 'https://raw.githubusercontent.com/plotly/plotly.js/master/test/image/mocks/sankey_energy.json'\n",
    "    response = urllib.request.urlopen(url)\n",
    "    data = json.loads(response.read())\n",
    "    # Make sure link color correponds to source node color\n",
    "    node_color = data['data'][0]['node']['color']\n",
    "    link_color = [node_color[i] for i in melt_df.source]\n",
    "\n",
    "    source = melt_df.source.values.tolist()\n",
    "    target = melt_df.target.values.tolist()\n",
    "    value = melt_df.value.values.tolist()\n",
    "    labels = df_labels.labels.values.tolist()\n",
    "    link = dict(source = source, target = target, value = value, color=link_color)\n",
    "    node = dict(label = labels, pad=15, thickness=5, color = node_color)\n",
    "    sankey = go.Sankey(link=link, node=node, arrangement='snap')\n",
    "    fig = go.Figure(sankey)\n",
    "    \n",
    "    return fig\n"
   ]
  },
  {
   "cell_type": "code",
   "execution_count": 6,
   "metadata": {},
   "outputs": [
    {
     "data": {
      "application/vnd.plotly.v1+json": {
       "config": {
        "plotlyServerURL": "https://plot.ly"
       },
       "data": [
        {
         "arrangement": "snap",
         "link": {
          "color": [
           "rgba(44, 160, 44, 0.8)",
           "rgba(140, 86, 75, 0.8)",
           "rgba(188, 189, 34, 0.8)",
           "rgba(214, 39, 40, 0.8)",
           "rgba(31, 119, 180, 0.8)",
           "rgba(255, 127, 14, 0.8)",
           "rgba(44, 160, 44, 0.8)",
           "rgba(214, 39, 40, 0.8)",
           "rgba(140, 86, 75, 0.8)",
           "rgba(188, 189, 34, 0.8)",
           "rgba(214, 39, 40, 0.8)",
           "rgba(127, 127, 127, 0.8)",
           "rgba(23, 190, 207, 0.8)",
           "rgba(255, 127, 14, 0.8)",
           "rgba(140, 86, 75, 0.8)",
           "rgba(227, 119, 194, 0.8)",
           "rgba(188, 189, 34, 0.8)",
           "rgba(214, 39, 40, 0.8)",
           "rgba(31, 119, 180, 0.8)",
           "rgba(23, 190, 207, 0.8)",
           "rgba(31, 119, 180, 0.8)",
           "rgba(214, 39, 40, 0.8)",
           "rgba(148, 103, 189, 0.8)",
           "rgba(214, 39, 40, 0.8)",
           "rgba(31, 119, 180, 0.8)",
           "rgba(255, 127, 14, 0.8)",
           "rgba(44, 160, 44, 0.8)",
           "rgba(214, 39, 40, 0.8)",
           "rgba(31, 119, 180, 0.8)",
           "rgba(214, 39, 40, 0.8)",
           "rgba(255, 127, 14, 0.8)",
           "rgba(214, 39, 40, 0.8)",
           "rgba(214, 39, 40, 0.8)",
           "rgba(255, 127, 14, 0.8)",
           "rgba(44, 160, 44, 0.8)",
           "rgba(214, 39, 40, 0.8)",
           "rgba(140, 86, 75, 0.8)",
           "rgba(227, 119, 194, 0.8)",
           "rgba(188, 189, 34, 0.8)",
           "rgba(214, 39, 40, 0.8)",
           "rgba(31, 119, 180, 0.8)",
           "rgba(255, 127, 14, 0.8)",
           "rgba(44, 160, 44, 0.8)",
           "rgba(214, 39, 40, 0.8)",
           "rgba(148, 103, 189, 0.8)",
           "rgba(140, 86, 75, 0.8)",
           "rgba(127, 127, 127, 0.8)",
           "rgba(188, 189, 34, 0.8)",
           "rgba(23, 190, 207, 0.8)",
           "rgba(31, 119, 180, 0.8)",
           "rgba(255, 127, 14, 0.8)",
           "rgba(44, 160, 44, 0.8)",
           "rgba(214, 39, 40, 0.8)",
           "rgba(255, 127, 14, 0.8)",
           "rgba(214, 39, 40, 0.8)",
           "rgba(31, 119, 180, 0.8)",
           "rgba(255, 127, 14, 0.8)",
           "rgba(44, 160, 44, 0.8)",
           "rgba(214, 39, 40, 0.8)",
           "rgba(214, 39, 40, 0.8)",
           "rgba(127, 127, 127, 0.8)",
           "rgba(23, 190, 207, 0.8)",
           "rgba(214, 39, 40, 0.8)",
           "rgba(31, 119, 180, 0.8)",
           "rgba(255, 127, 14, 0.8)",
           "rgba(44, 160, 44, 0.8)",
           "rgba(214, 39, 40, 0.8)",
           "rgba(148, 103, 189, 0.8)",
           "rgba(140, 86, 75, 0.8)",
           "rgba(227, 119, 194, 0.8)",
           "rgba(127, 127, 127, 0.8)",
           "rgba(188, 189, 34, 0.8)",
           "rgba(23, 190, 207, 0.8)",
           "rgba(31, 119, 180, 0.8)",
           "rgba(214, 39, 40, 0.8)",
           "rgba(227, 119, 194, 0.8)",
           "rgba(214, 39, 40, 0.8)",
           "rgba(127, 127, 127, 0.8)",
           "rgba(23, 190, 207, 0.8)",
           "rgba(214, 39, 40, 0.8)",
           "rgba(127, 127, 127, 0.8)",
           "rgba(23, 190, 207, 0.8)",
           "rgba(127, 127, 127, 0.8)",
           "rgba(23, 190, 207, 0.8)",
           "rgba(127, 127, 127, 0.8)",
           "rgba(23, 190, 207, 0.8)",
           "rgba(214, 39, 40, 0.8)",
           "rgba(127, 127, 127, 0.8)",
           "rgba(23, 190, 207, 0.8)",
           "rgba(214, 39, 40, 0.8)",
           "rgba(127, 127, 127, 0.8)",
           "rgba(23, 190, 207, 0.8)",
           "rgba(214, 39, 40, 0.8)",
           "rgba(31, 119, 180, 0.8)",
           "rgba(44, 160, 44, 0.8)",
           "rgba(214, 39, 40, 0.8)",
           "rgba(127, 127, 127, 0.8)",
           "rgba(23, 190, 207, 0.8)",
           "rgba(214, 39, 40, 0.8)",
           "rgba(188, 189, 34, 0.8)",
           "rgba(23, 190, 207, 0.8)",
           "rgba(31, 119, 180, 0.8)",
           "rgba(255, 127, 14, 0.8)",
           "rgba(44, 160, 44, 0.8)",
           "rgba(214, 39, 40, 0.8)",
           "rgba(148, 103, 189, 0.8)",
           "magenta",
           "rgba(227, 119, 194, 0.8)",
           "rgba(148, 103, 189, 0.8)",
           "rgba(140, 86, 75, 0.8)",
           "rgba(227, 119, 194, 0.8)",
           "rgba(127, 127, 127, 0.8)",
           "rgba(188, 189, 34, 0.8)",
           "rgba(31, 119, 180, 0.8)",
           "rgba(255, 127, 14, 0.8)",
           "rgba(44, 160, 44, 0.8)",
           "rgba(214, 39, 40, 0.8)",
           "rgba(148, 103, 189, 0.8)",
           "rgba(140, 86, 75, 0.8)",
           "rgba(127, 127, 127, 0.8)",
           "rgba(188, 189, 34, 0.8)",
           "rgba(23, 190, 207, 0.8)",
           "rgba(31, 119, 180, 0.8)",
           "rgba(214, 39, 40, 0.8)",
           "rgba(148, 103, 189, 0.8)",
           "magenta",
           "rgba(188, 189, 34, 0.8)",
           "rgba(31, 119, 180, 0.8)",
           "rgba(227, 119, 194, 0.8)",
           "rgba(127, 127, 127, 0.8)"
          ],
          "source": [
           2,
           5,
           8,
           13,
           0,
           1,
           2,
           3,
           5,
           8,
           13,
           7,
           9,
           1,
           5,
           6,
           8,
           13,
           0,
           9,
           10,
           13,
           4,
           13,
           10,
           11,
           12,
           13,
           0,
           13,
           1,
           3,
           13,
           1,
           2,
           3,
           5,
           6,
           8,
           13,
           0,
           1,
           2,
           3,
           4,
           5,
           7,
           8,
           9,
           10,
           11,
           12,
           13,
           1,
           13,
           10,
           11,
           12,
           13,
           13,
           7,
           9,
           13,
           0,
           1,
           2,
           3,
           4,
           5,
           6,
           7,
           8,
           9,
           10,
           13,
           6,
           13,
           7,
           9,
           13,
           7,
           9,
           7,
           9,
           7,
           9,
           13,
           7,
           9,
           13,
           7,
           9,
           13,
           10,
           12,
           13,
           7,
           9,
           13,
           18,
           19,
           20,
           31,
           32,
           33,
           34,
           35,
           36,
           14,
           15,
           16,
           17,
           18,
           20,
           21,
           22,
           23,
           24,
           25,
           27,
           28,
           29,
           30,
           33,
           34,
           35,
           38,
           20,
           26,
           37
          ],
          "target": [
           14,
           14,
           14,
           14,
           15,
           15,
           15,
           15,
           15,
           15,
           15,
           16,
           16,
           17,
           17,
           17,
           17,
           17,
           18,
           18,
           18,
           18,
           19,
           19,
           20,
           20,
           20,
           20,
           21,
           21,
           22,
           22,
           22,
           23,
           23,
           23,
           23,
           23,
           23,
           23,
           24,
           24,
           24,
           24,
           24,
           24,
           24,
           24,
           24,
           24,
           24,
           24,
           24,
           25,
           25,
           26,
           26,
           26,
           26,
           27,
           28,
           28,
           28,
           29,
           29,
           29,
           29,
           29,
           29,
           29,
           29,
           29,
           29,
           29,
           29,
           30,
           30,
           31,
           31,
           31,
           32,
           32,
           33,
           33,
           34,
           34,
           34,
           35,
           35,
           35,
           36,
           36,
           36,
           37,
           37,
           37,
           38,
           38,
           38,
           39,
           39,
           39,
           39,
           39,
           39,
           39,
           39,
           39,
           40,
           40,
           40,
           40,
           40,
           40,
           40,
           40,
           40,
           40,
           40,
           40,
           40,
           40,
           40,
           40,
           40,
           40,
           40,
           41,
           41,
           41
          ],
          "value": [
           1,
           1,
           1,
           1,
           1,
           1,
           1,
           1,
           1,
           1,
           1,
           1,
           1,
           1,
           1,
           1,
           1,
           1,
           1,
           1,
           1,
           1,
           1,
           1,
           1,
           1,
           1,
           1,
           1,
           1,
           1,
           1,
           1,
           1,
           1,
           1,
           1,
           1,
           1,
           1,
           1,
           1,
           1,
           1,
           1,
           1,
           1,
           1,
           1,
           1,
           1,
           1,
           1,
           1,
           1,
           1,
           1,
           1,
           1,
           1,
           1,
           1,
           1,
           1,
           1,
           1,
           1,
           1,
           1,
           1,
           1,
           1,
           1,
           1,
           1,
           1,
           1,
           1,
           1,
           1,
           1,
           1,
           1,
           1,
           1,
           1,
           1,
           1,
           1,
           1,
           1,
           1,
           1,
           1,
           1,
           1,
           1,
           1,
           1,
           1,
           1,
           1,
           1,
           1,
           1,
           1,
           1,
           1,
           1,
           1,
           1,
           1,
           1,
           1,
           1,
           1,
           1,
           1,
           1,
           1,
           1,
           1,
           1,
           1,
           1,
           1,
           1,
           1,
           1,
           1
          ]
         },
         "node": {
          "color": [
           "rgba(31, 119, 180, 0.8)",
           "rgba(255, 127, 14, 0.8)",
           "rgba(44, 160, 44, 0.8)",
           "rgba(214, 39, 40, 0.8)",
           "rgba(148, 103, 189, 0.8)",
           "rgba(140, 86, 75, 0.8)",
           "rgba(227, 119, 194, 0.8)",
           "rgba(127, 127, 127, 0.8)",
           "rgba(188, 189, 34, 0.8)",
           "rgba(23, 190, 207, 0.8)",
           "rgba(31, 119, 180, 0.8)",
           "rgba(255, 127, 14, 0.8)",
           "rgba(44, 160, 44, 0.8)",
           "rgba(214, 39, 40, 0.8)",
           "rgba(148, 103, 189, 0.8)",
           "rgba(140, 86, 75, 0.8)",
           "rgba(227, 119, 194, 0.8)",
           "rgba(127, 127, 127, 0.8)",
           "rgba(188, 189, 34, 0.8)",
           "rgba(23, 190, 207, 0.8)",
           "rgba(31, 119, 180, 0.8)",
           "rgba(255, 127, 14, 0.8)",
           "rgba(44, 160, 44, 0.8)",
           "rgba(214, 39, 40, 0.8)",
           "rgba(148, 103, 189, 0.8)",
           "rgba(140, 86, 75, 0.8)",
           "rgba(227, 119, 194, 0.8)",
           "rgba(127, 127, 127, 0.8)",
           "rgba(188, 189, 34, 0.8)",
           "rgba(23, 190, 207, 0.8)",
           "rgba(31, 119, 180, 0.8)",
           "rgba(255, 127, 14, 0.8)",
           "rgba(44, 160, 44, 0.8)",
           "rgba(214, 39, 40, 0.8)",
           "rgba(148, 103, 189, 0.8)",
           "magenta",
           "rgba(227, 119, 194, 0.8)",
           "rgba(127, 127, 127, 0.8)",
           "rgba(188, 189, 34, 0.8)",
           "rgba(23, 190, 207, 0.8)",
           "rgba(31, 119, 180, 0.8)",
           "rgba(255, 127, 14, 0.8)",
           "rgba(44, 160, 44, 0.8)",
           "rgba(214, 39, 40, 0.8)",
           "rgba(148, 103, 189, 0.8)",
           "rgba(140, 86, 75, 0.8)",
           "rgba(227, 119, 194, 0.8)",
           "rgba(127, 127, 127, 0.8)"
          ],
          "label": [
           "Dynamic Route Planning",
           "Eco-driving",
           "Speed Harmonization",
           "Platooning",
           "Self-Parking",
           "Signal Optimization",
           "Incident Management",
           "Shared Automated Vehicle",
           "Queue Warning",
           "MaaS",
           "Alternative Fuel Vehicle Optimal Charging",
           "Optimal Battery Management",
           "V2G Communication",
           "High/Full Automation",
           "Fewer crashes (+)",
           "Optimize driving cycle (+)",
           "Reduce cold start (+)",
           "Less idling (+)",
           "Eco-routing (+)",
           "Smart parking (+)",
           "Smart charging (+)",
           "Higher speed (-)",
           "Platooning (+)",
           "Fewer speed fluctuations (+)",
           "Additional ICT power (-)",
           "Powertrain downsizing (+)",
           "Promote electrification (+/-)",
           "Vehicle light weighting (+)",
           "Vehicle right-sizing (+)",
           "Decongestion (+)",
           "Reduce incident impacts (+)",
           "More shared trips and fleet downsizing (+)",
           "More empty trips (-)",
           "Integrate shared mobility with public transit (+)",
           "More and longer trips (-)",
           "Modal shift away from mass transit (-)",
           "urban spawl (-)",
           "Integration with power systems (V2G) (+)",
           "More congestion given induced demand (-)",
           "VMT",
           "Energy Efficiency",
           "Alternative Fuel Choice"
          ],
          "pad": 15,
          "thickness": 5
         },
         "type": "sankey"
        }
       ],
       "layout": {
        "font": {
         "size": 12
        },
        "height": 1200,
        "template": {
         "data": {
          "bar": [
           {
            "error_x": {
             "color": "#2a3f5f"
            },
            "error_y": {
             "color": "#2a3f5f"
            },
            "marker": {
             "line": {
              "color": "#E5ECF6",
              "width": 0.5
             },
             "pattern": {
              "fillmode": "overlay",
              "size": 10,
              "solidity": 0.2
             }
            },
            "type": "bar"
           }
          ],
          "barpolar": [
           {
            "marker": {
             "line": {
              "color": "#E5ECF6",
              "width": 0.5
             },
             "pattern": {
              "fillmode": "overlay",
              "size": 10,
              "solidity": 0.2
             }
            },
            "type": "barpolar"
           }
          ],
          "carpet": [
           {
            "aaxis": {
             "endlinecolor": "#2a3f5f",
             "gridcolor": "white",
             "linecolor": "white",
             "minorgridcolor": "white",
             "startlinecolor": "#2a3f5f"
            },
            "baxis": {
             "endlinecolor": "#2a3f5f",
             "gridcolor": "white",
             "linecolor": "white",
             "minorgridcolor": "white",
             "startlinecolor": "#2a3f5f"
            },
            "type": "carpet"
           }
          ],
          "choropleth": [
           {
            "colorbar": {
             "outlinewidth": 0,
             "ticks": ""
            },
            "type": "choropleth"
           }
          ],
          "contour": [
           {
            "colorbar": {
             "outlinewidth": 0,
             "ticks": ""
            },
            "colorscale": [
             [
              0,
              "#0d0887"
             ],
             [
              0.1111111111111111,
              "#46039f"
             ],
             [
              0.2222222222222222,
              "#7201a8"
             ],
             [
              0.3333333333333333,
              "#9c179e"
             ],
             [
              0.4444444444444444,
              "#bd3786"
             ],
             [
              0.5555555555555556,
              "#d8576b"
             ],
             [
              0.6666666666666666,
              "#ed7953"
             ],
             [
              0.7777777777777778,
              "#fb9f3a"
             ],
             [
              0.8888888888888888,
              "#fdca26"
             ],
             [
              1,
              "#f0f921"
             ]
            ],
            "type": "contour"
           }
          ],
          "contourcarpet": [
           {
            "colorbar": {
             "outlinewidth": 0,
             "ticks": ""
            },
            "type": "contourcarpet"
           }
          ],
          "heatmap": [
           {
            "colorbar": {
             "outlinewidth": 0,
             "ticks": ""
            },
            "colorscale": [
             [
              0,
              "#0d0887"
             ],
             [
              0.1111111111111111,
              "#46039f"
             ],
             [
              0.2222222222222222,
              "#7201a8"
             ],
             [
              0.3333333333333333,
              "#9c179e"
             ],
             [
              0.4444444444444444,
              "#bd3786"
             ],
             [
              0.5555555555555556,
              "#d8576b"
             ],
             [
              0.6666666666666666,
              "#ed7953"
             ],
             [
              0.7777777777777778,
              "#fb9f3a"
             ],
             [
              0.8888888888888888,
              "#fdca26"
             ],
             [
              1,
              "#f0f921"
             ]
            ],
            "type": "heatmap"
           }
          ],
          "heatmapgl": [
           {
            "colorbar": {
             "outlinewidth": 0,
             "ticks": ""
            },
            "colorscale": [
             [
              0,
              "#0d0887"
             ],
             [
              0.1111111111111111,
              "#46039f"
             ],
             [
              0.2222222222222222,
              "#7201a8"
             ],
             [
              0.3333333333333333,
              "#9c179e"
             ],
             [
              0.4444444444444444,
              "#bd3786"
             ],
             [
              0.5555555555555556,
              "#d8576b"
             ],
             [
              0.6666666666666666,
              "#ed7953"
             ],
             [
              0.7777777777777778,
              "#fb9f3a"
             ],
             [
              0.8888888888888888,
              "#fdca26"
             ],
             [
              1,
              "#f0f921"
             ]
            ],
            "type": "heatmapgl"
           }
          ],
          "histogram": [
           {
            "marker": {
             "pattern": {
              "fillmode": "overlay",
              "size": 10,
              "solidity": 0.2
             }
            },
            "type": "histogram"
           }
          ],
          "histogram2d": [
           {
            "colorbar": {
             "outlinewidth": 0,
             "ticks": ""
            },
            "colorscale": [
             [
              0,
              "#0d0887"
             ],
             [
              0.1111111111111111,
              "#46039f"
             ],
             [
              0.2222222222222222,
              "#7201a8"
             ],
             [
              0.3333333333333333,
              "#9c179e"
             ],
             [
              0.4444444444444444,
              "#bd3786"
             ],
             [
              0.5555555555555556,
              "#d8576b"
             ],
             [
              0.6666666666666666,
              "#ed7953"
             ],
             [
              0.7777777777777778,
              "#fb9f3a"
             ],
             [
              0.8888888888888888,
              "#fdca26"
             ],
             [
              1,
              "#f0f921"
             ]
            ],
            "type": "histogram2d"
           }
          ],
          "histogram2dcontour": [
           {
            "colorbar": {
             "outlinewidth": 0,
             "ticks": ""
            },
            "colorscale": [
             [
              0,
              "#0d0887"
             ],
             [
              0.1111111111111111,
              "#46039f"
             ],
             [
              0.2222222222222222,
              "#7201a8"
             ],
             [
              0.3333333333333333,
              "#9c179e"
             ],
             [
              0.4444444444444444,
              "#bd3786"
             ],
             [
              0.5555555555555556,
              "#d8576b"
             ],
             [
              0.6666666666666666,
              "#ed7953"
             ],
             [
              0.7777777777777778,
              "#fb9f3a"
             ],
             [
              0.8888888888888888,
              "#fdca26"
             ],
             [
              1,
              "#f0f921"
             ]
            ],
            "type": "histogram2dcontour"
           }
          ],
          "mesh3d": [
           {
            "colorbar": {
             "outlinewidth": 0,
             "ticks": ""
            },
            "type": "mesh3d"
           }
          ],
          "parcoords": [
           {
            "line": {
             "colorbar": {
              "outlinewidth": 0,
              "ticks": ""
             }
            },
            "type": "parcoords"
           }
          ],
          "pie": [
           {
            "automargin": true,
            "type": "pie"
           }
          ],
          "scatter": [
           {
            "fillpattern": {
             "fillmode": "overlay",
             "size": 10,
             "solidity": 0.2
            },
            "type": "scatter"
           }
          ],
          "scatter3d": [
           {
            "line": {
             "colorbar": {
              "outlinewidth": 0,
              "ticks": ""
             }
            },
            "marker": {
             "colorbar": {
              "outlinewidth": 0,
              "ticks": ""
             }
            },
            "type": "scatter3d"
           }
          ],
          "scattercarpet": [
           {
            "marker": {
             "colorbar": {
              "outlinewidth": 0,
              "ticks": ""
             }
            },
            "type": "scattercarpet"
           }
          ],
          "scattergeo": [
           {
            "marker": {
             "colorbar": {
              "outlinewidth": 0,
              "ticks": ""
             }
            },
            "type": "scattergeo"
           }
          ],
          "scattergl": [
           {
            "marker": {
             "colorbar": {
              "outlinewidth": 0,
              "ticks": ""
             }
            },
            "type": "scattergl"
           }
          ],
          "scattermapbox": [
           {
            "marker": {
             "colorbar": {
              "outlinewidth": 0,
              "ticks": ""
             }
            },
            "type": "scattermapbox"
           }
          ],
          "scatterpolar": [
           {
            "marker": {
             "colorbar": {
              "outlinewidth": 0,
              "ticks": ""
             }
            },
            "type": "scatterpolar"
           }
          ],
          "scatterpolargl": [
           {
            "marker": {
             "colorbar": {
              "outlinewidth": 0,
              "ticks": ""
             }
            },
            "type": "scatterpolargl"
           }
          ],
          "scatterternary": [
           {
            "marker": {
             "colorbar": {
              "outlinewidth": 0,
              "ticks": ""
             }
            },
            "type": "scatterternary"
           }
          ],
          "surface": [
           {
            "colorbar": {
             "outlinewidth": 0,
             "ticks": ""
            },
            "colorscale": [
             [
              0,
              "#0d0887"
             ],
             [
              0.1111111111111111,
              "#46039f"
             ],
             [
              0.2222222222222222,
              "#7201a8"
             ],
             [
              0.3333333333333333,
              "#9c179e"
             ],
             [
              0.4444444444444444,
              "#bd3786"
             ],
             [
              0.5555555555555556,
              "#d8576b"
             ],
             [
              0.6666666666666666,
              "#ed7953"
             ],
             [
              0.7777777777777778,
              "#fb9f3a"
             ],
             [
              0.8888888888888888,
              "#fdca26"
             ],
             [
              1,
              "#f0f921"
             ]
            ],
            "type": "surface"
           }
          ],
          "table": [
           {
            "cells": {
             "fill": {
              "color": "#EBF0F8"
             },
             "line": {
              "color": "white"
             }
            },
            "header": {
             "fill": {
              "color": "#C8D4E3"
             },
             "line": {
              "color": "white"
             }
            },
            "type": "table"
           }
          ]
         },
         "layout": {
          "annotationdefaults": {
           "arrowcolor": "#2a3f5f",
           "arrowhead": 0,
           "arrowwidth": 1
          },
          "autotypenumbers": "strict",
          "coloraxis": {
           "colorbar": {
            "outlinewidth": 0,
            "ticks": ""
           }
          },
          "colorscale": {
           "diverging": [
            [
             0,
             "#8e0152"
            ],
            [
             0.1,
             "#c51b7d"
            ],
            [
             0.2,
             "#de77ae"
            ],
            [
             0.3,
             "#f1b6da"
            ],
            [
             0.4,
             "#fde0ef"
            ],
            [
             0.5,
             "#f7f7f7"
            ],
            [
             0.6,
             "#e6f5d0"
            ],
            [
             0.7,
             "#b8e186"
            ],
            [
             0.8,
             "#7fbc41"
            ],
            [
             0.9,
             "#4d9221"
            ],
            [
             1,
             "#276419"
            ]
           ],
           "sequential": [
            [
             0,
             "#0d0887"
            ],
            [
             0.1111111111111111,
             "#46039f"
            ],
            [
             0.2222222222222222,
             "#7201a8"
            ],
            [
             0.3333333333333333,
             "#9c179e"
            ],
            [
             0.4444444444444444,
             "#bd3786"
            ],
            [
             0.5555555555555556,
             "#d8576b"
            ],
            [
             0.6666666666666666,
             "#ed7953"
            ],
            [
             0.7777777777777778,
             "#fb9f3a"
            ],
            [
             0.8888888888888888,
             "#fdca26"
            ],
            [
             1,
             "#f0f921"
            ]
           ],
           "sequentialminus": [
            [
             0,
             "#0d0887"
            ],
            [
             0.1111111111111111,
             "#46039f"
            ],
            [
             0.2222222222222222,
             "#7201a8"
            ],
            [
             0.3333333333333333,
             "#9c179e"
            ],
            [
             0.4444444444444444,
             "#bd3786"
            ],
            [
             0.5555555555555556,
             "#d8576b"
            ],
            [
             0.6666666666666666,
             "#ed7953"
            ],
            [
             0.7777777777777778,
             "#fb9f3a"
            ],
            [
             0.8888888888888888,
             "#fdca26"
            ],
            [
             1,
             "#f0f921"
            ]
           ]
          },
          "colorway": [
           "#636efa",
           "#EF553B",
           "#00cc96",
           "#ab63fa",
           "#FFA15A",
           "#19d3f3",
           "#FF6692",
           "#B6E880",
           "#FF97FF",
           "#FECB52"
          ],
          "font": {
           "color": "#2a3f5f"
          },
          "geo": {
           "bgcolor": "white",
           "lakecolor": "white",
           "landcolor": "#E5ECF6",
           "showlakes": true,
           "showland": true,
           "subunitcolor": "white"
          },
          "hoverlabel": {
           "align": "left"
          },
          "hovermode": "closest",
          "mapbox": {
           "style": "light"
          },
          "paper_bgcolor": "white",
          "plot_bgcolor": "#E5ECF6",
          "polar": {
           "angularaxis": {
            "gridcolor": "white",
            "linecolor": "white",
            "ticks": ""
           },
           "bgcolor": "#E5ECF6",
           "radialaxis": {
            "gridcolor": "white",
            "linecolor": "white",
            "ticks": ""
           }
          },
          "scene": {
           "xaxis": {
            "backgroundcolor": "#E5ECF6",
            "gridcolor": "white",
            "gridwidth": 2,
            "linecolor": "white",
            "showbackground": true,
            "ticks": "",
            "zerolinecolor": "white"
           },
           "yaxis": {
            "backgroundcolor": "#E5ECF6",
            "gridcolor": "white",
            "gridwidth": 2,
            "linecolor": "white",
            "showbackground": true,
            "ticks": "",
            "zerolinecolor": "white"
           },
           "zaxis": {
            "backgroundcolor": "#E5ECF6",
            "gridcolor": "white",
            "gridwidth": 2,
            "linecolor": "white",
            "showbackground": true,
            "ticks": "",
            "zerolinecolor": "white"
           }
          },
          "shapedefaults": {
           "line": {
            "color": "#2a3f5f"
           }
          },
          "ternary": {
           "aaxis": {
            "gridcolor": "white",
            "linecolor": "white",
            "ticks": ""
           },
           "baxis": {
            "gridcolor": "white",
            "linecolor": "white",
            "ticks": ""
           },
           "bgcolor": "#E5ECF6",
           "caxis": {
            "gridcolor": "white",
            "linecolor": "white",
            "ticks": ""
           }
          },
          "title": {
           "x": 0.05
          },
          "xaxis": {
           "automargin": true,
           "gridcolor": "white",
           "linecolor": "white",
           "ticks": "",
           "title": {
            "standoff": 15
           },
           "zerolinecolor": "white",
           "zerolinewidth": 2
          },
          "yaxis": {
           "automargin": true,
           "gridcolor": "white",
           "linecolor": "white",
           "ticks": "",
           "title": {
            "standoff": 15
           },
           "zerolinecolor": "white",
           "zerolinewidth": 2
          }
         }
        },
        "width": 1000
       }
      }
     },
     "metadata": {},
     "output_type": "display_data"
    }
   ],
   "source": [
    "df = pd.read_excel('apps_transform.xlsx', sheet_name='apps').fillna(0)\n",
    "fig = sankey_plot(df)\n",
    "fig.update_layout(width=1000, height=1200, font_size = 12)\n",
    "fig.show()\n",
    "fig.write_html('AV_facilitated_transformations.html')"
   ]
  },
  {
   "cell_type": "code",
   "execution_count": null,
   "metadata": {},
   "outputs": [],
   "source": []
  }
 ],
 "metadata": {
  "kernelspec": {
   "display_name": "Python 3.9.12 ('.venv': venv)",
   "language": "python",
   "name": "python3"
  },
  "language_info": {
   "codemirror_mode": {
    "name": "ipython",
    "version": 3
   },
   "file_extension": ".py",
   "mimetype": "text/x-python",
   "name": "python",
   "nbconvert_exporter": "python",
   "pygments_lexer": "ipython3",
   "version": "3.9.12"
  },
  "orig_nbformat": 4,
  "vscode": {
   "interpreter": {
    "hash": "8d1ef3b3d21a8f5d62fec297b2de45fe0670853a5f20151ae07585d912ea79d8"
   }
  }
 },
 "nbformat": 4,
 "nbformat_minor": 2
}
